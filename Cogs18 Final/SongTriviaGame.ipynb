{
 "cells": [
  {
   "cell_type": "markdown",
   "metadata": {},
   "source": [
    "# Song Trivia Game\n",
    "\n",
    "I created a trivia game in which the player will be presented with song lyrics and be prompted to guess the title of the song. The song will be chosen randomly from a list of song lyrics and if the player guesses the song incorrectly they will be prompted to guess the name of a song from a list of nursery rhymes (this will not occur everytime the player guesses incorrectly). However, if they guess the song correctly, they will continue guessing from the original list of song lyrics.\n",
    "\n",
    "The player will have 5 attempts to guess 3 song titles correctly. When the player either uses up all 5 attempts or guesses correctly 3 times the player will recieve a message saying whether they won or lost. Either way they will be asked if they want to play again. If they answer no, the game will end. If they answer yes, the game will restart; the attempts counter, win counter, song lyrics list, nursery rhymes list, and lists of responses to whether they guessed correctly or incorrectly will all be restored back to the originals so that the game can completely restart.\n"
   ]
  },
  {
   "cell_type": "code",
   "execution_count": null,
   "metadata": {},
   "outputs": [],
   "source": [
    "from my_module.song_guess import play_game"
   ]
  },
  {
   "cell_type": "code",
   "execution_count": null,
   "metadata": {},
   "outputs": [],
   "source": [
    "play_game()"
   ]
  }
 ],
 "metadata": {
  "kernelspec": {
   "display_name": "Python 3",
   "language": "python",
   "name": "python3"
  },
  "language_info": {
   "codemirror_mode": {
    "name": "ipython",
    "version": 3
   },
   "file_extension": ".py",
   "mimetype": "text/x-python",
   "name": "python",
   "nbconvert_exporter": "python",
   "pygments_lexer": "ipython3",
   "version": "3.6.7"
  }
 },
 "nbformat": 4,
 "nbformat_minor": 2
}
